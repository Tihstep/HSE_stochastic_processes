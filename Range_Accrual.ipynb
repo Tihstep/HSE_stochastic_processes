{
 "cells": [
  {
   "cell_type": "code",
   "execution_count": 4,
   "id": "996af32c-baed-4239-8f6a-193add154e0d",
   "metadata": {},
   "outputs": [],
   "source": [
    "import numpy as np\n",
    "import plotly\n",
    "import plotly.graph_objs as go"
   ]
  },
  {
   "cell_type": "code",
   "execution_count": 195,
   "id": "af3249f3-a259-4e0f-821d-acfca2d7e48d",
   "metadata": {},
   "outputs": [],
   "source": [
    "def CIR(current_rate, volatility, mean, velocity):\n",
    "    deterministic_term = current_rate + velocity*(mean - current_rate)\n",
    "    stochastic_term = volatility*np.sqrt(current_rate)*(np.random.randn(1)[0])\n",
    "    return deterministic_term + stochastic_term\n",
    "\n",
    "def compute_path_payoff(path, upper_barrier, lower_barrier, maturity_date, max_payoff):\n",
    "    path_until_end = path[:maturity_date]\n",
    "    filter = (path_until_end <= upper_barrier) & (path_until_end >= lower_barrier)\n",
    "    return filter.astype(np.int32).sum()\n",
    "\n",
    "def generate_path(params):\n",
    "    RUB_rate = np.array([params[0]])\n",
    "    for _ in range(STEP_AMOUNT):\n",
    "        RUB_rate= np.append(RUB_rate, CIR(*params))\n",
    "    return RUB_rate\n",
    "\n",
    "def generate_paths(params):\n",
    "    paths = []\n",
    "    for _ in range(2):\n",
    "        paths.append(generate_path(params))\n",
    "    return np.array(paths)\n",
    "    \n",
    "def compute_payoffs(upper_barrier, lower_barrier, maturity_date, max_payoff, config):\n",
    "    paths = generate_paths(config)\n",
    "    func = lambda path: compute_path_payoff(path, upper_barrier, lower_barrier, maturity_date, max_payoff)\n",
    "    return np.array(list(map(func, paths))), paths"
   ]
  },
  {
   "cell_type": "code",
   "execution_count": 196,
   "id": "534f11ea-81dd-4a33-99f3-bde6363e6145",
   "metadata": {},
   "outputs": [],
   "source": [
    "RUB_START_POINT = 7.45\n",
    "RUB_VOLATILITY = 0.1\n",
    "RUB_MEAN_RATE = 6.777795918367346\n",
    "RUB_MEAN_REVERSION_VELOCITY = 0.01231185014718937\n",
    "STEP_AMOUNT = 100\n",
    "\n",
    "payoffs, paths = compute_payoffs(RUB_START_POINT + 1, RUB_START_POINT - 1, 100, 100, \\\n",
    "                          [RUB_START_POINT, RUB_VOLATILITY, RUB_MEAN_RATE, RUB_MEAN_REVERSION_VELOCITY])"
   ]
  },
  {
   "cell_type": "code",
   "execution_count": 197,
   "id": "618d9751-e0b4-4c44-86d4-e1ffeb93452d",
   "metadata": {},
   "outputs": [
    {
     "data": {
      "application/vnd.plotly.v1+json": {
       "config": {
        "plotlyServerURL": "https://plot.ly"
       },
       "data": [
        {
         "line": {
          "width": 1
         },
         "mode": "lines",
         "name": "Траектория 0",
         "type": "scatter",
         "x": [
          0,
          1,
          2,
          3,
          4,
          5,
          6,
          7,
          8,
          9,
          10,
          11,
          12,
          13,
          14,
          15,
          16,
          17,
          18,
          19,
          20,
          21,
          22,
          23,
          24,
          25,
          26,
          27,
          28,
          29,
          30,
          31,
          32,
          33,
          34,
          35,
          36,
          37,
          38,
          39,
          40,
          41,
          42,
          43,
          44,
          45,
          46,
          47,
          48,
          49,
          50,
          51,
          52,
          53,
          54,
          55,
          56,
          57,
          58,
          59,
          60,
          61,
          62,
          63,
          64,
          65,
          66,
          67,
          68,
          69,
          70,
          71,
          72,
          73,
          74,
          75,
          76,
          77,
          78,
          79,
          80,
          81,
          82,
          83,
          84,
          85,
          86,
          87,
          88,
          89,
          90,
          91,
          92,
          93,
          94,
          95,
          96,
          97,
          98,
          99,
          100
         ],
         "y": [
          7.45,
          7.382322101193932,
          7.24702071129048,
          7.3797260169534775,
          7.651230486259485,
          7.420157601905568,
          8.174428297138844,
          7.405722538046014,
          7.6044338595237155,
          7.343765974572087,
          7.056903931817885,
          7.2736690206273105,
          7.389036056135829,
          7.369414995817848,
          7.452266142530291,
          7.68936076503373,
          7.497769193958517,
          7.465492243697,
          8.04589318701681,
          7.301364605847539,
          7.927374532420583,
          7.280603373661709,
          7.750704766412762,
          7.2668006320228,
          6.765768289377313,
          7.55061751963073,
          7.36157760931836,
          7.448672746482472,
          7.5200912104145266,
          7.529531628249319,
          6.598094726999569,
          7.337590919696483,
          6.90303592122392,
          7.675005229952202,
          7.739692347970747,
          7.59250712125516,
          7.097498369444456,
          7.206795307420253,
          7.673558962440695,
          7.219196342371014,
          7.736410659024852,
          7.562416101788312,
          7.725200814163926,
          7.353180735906048,
          6.987891730606936,
          7.338900066644219,
          6.732601298655099,
          6.9548926549533485,
          7.1433828630448035,
          7.387194365100565,
          7.529351787832176,
          7.127068105870975,
          7.482939572192662,
          7.243194844562615,
          7.359889650607846,
          7.704590515053338,
          7.30117275191221,
          7.440285024672376,
          7.435389748381131,
          7.8795497827571115,
          7.669069760134538,
          7.011116928876277,
          7.744010814749914,
          7.928124222417376,
          7.418618329114273,
          7.528045790582405,
          7.09165279360835,
          7.422634626719589,
          7.441345883427147,
          7.380404166816036,
          7.415195239831241,
          7.302359666438394,
          7.273443657023627,
          7.9316150551330615,
          7.680440113045172,
          8.041101394748571,
          7.534733819677075,
          6.969904214741338,
          7.787172441973673,
          6.956681024254114,
          7.6940443955536795,
          7.1892698401437505,
          7.042603607911444,
          7.680717923021605,
          7.901254451673086,
          7.651777200959529,
          7.081090362109263,
          7.767330911391314,
          6.956930561502985,
          7.568626071168007,
          7.839986840641748,
          7.78464098366391,
          6.77115739797851,
          7.354669604892567,
          7.299482684856762,
          7.90785357675299,
          7.671748204009204,
          8.216243472082306,
          7.619673801331552,
          7.296847051961787,
          7.489168883894949
         ]
        },
        {
         "line": {
          "width": 1
         },
         "mode": "lines",
         "name": "Траектория 1",
         "type": "scatter",
         "x": [
          0,
          1,
          2,
          3,
          4,
          5,
          6,
          7,
          8,
          9,
          10,
          11,
          12,
          13,
          14,
          15,
          16,
          17,
          18,
          19,
          20,
          21,
          22,
          23,
          24,
          25,
          26,
          27,
          28,
          29,
          30,
          31,
          32,
          33,
          34,
          35,
          36,
          37,
          38,
          39,
          40,
          41,
          42,
          43,
          44,
          45,
          46,
          47,
          48,
          49,
          50,
          51,
          52,
          53,
          54,
          55,
          56,
          57,
          58,
          59,
          60,
          61,
          62,
          63,
          64,
          65,
          66,
          67,
          68,
          69,
          70,
          71,
          72,
          73,
          74,
          75,
          76,
          77,
          78,
          79,
          80,
          81,
          82,
          83,
          84,
          85,
          86,
          87,
          88,
          89,
          90,
          91,
          92,
          93,
          94,
          95,
          96,
          97,
          98,
          99,
          100
         ],
         "y": [
          7.45,
          7.218953429978244,
          7.779577322233794,
          7.1675896873010965,
          7.736507096879219,
          7.776877788019677,
          7.213684576312079,
          7.4688438355052,
          7.352582383852294,
          7.759255004466345,
          7.813804191453692,
          7.632321710950111,
          7.70451502509607,
          7.9070442756777926,
          7.499433930888823,
          7.309526665815787,
          7.700331821971238,
          7.3802671247159575,
          7.815524992645632,
          7.87215237548981,
          7.432294907869774,
          7.4104688523019275,
          7.47125933566002,
          7.518561318212454,
          7.552178969239396,
          7.708612775331998,
          7.168212327768968,
          7.770939309556387,
          7.028709863220423,
          7.5689422566306765,
          7.384416024318365,
          7.562986341494695,
          7.424233872823202,
          7.349961458624338,
          7.645302968694553,
          7.077324413777407,
          7.641832998609208,
          7.1004977918011365,
          7.401479989541371,
          7.462079949073418,
          7.117928239615543,
          7.656344240391355,
          7.408082365605163,
          7.683035592954641,
          7.447080624454518,
          8.087028754465873,
          7.66562405098504,
          7.084532507516522,
          8.059829259976478,
          7.136024801086322,
          7.020151211752626,
          7.0091351164261955,
          7.814548164861166,
          7.491345469333361,
          7.264306822697674,
          7.058206028260075,
          6.851919796246833,
          6.96137149655889,
          7.47445178589858,
          7.526674038980575,
          8.072153650038883,
          7.622204427828757,
          7.689117722862214,
          7.079108973297234,
          7.173199825311766,
          7.169620514337623,
          7.379227551588391,
          6.955832558722871,
          7.43901223009561,
          7.553828297541311,
          7.61772565733938,
          7.569649644041161,
          7.745724877267575,
          7.022495999041325,
          7.566992013402887,
          7.385363641904693,
          7.080386689322214,
          7.2635273472070745,
          7.595156149413638,
          7.039604988161118,
          7.410573444166677,
          8.198772435232383,
          7.529684592351026,
          7.5121748986735115,
          7.344439044692468,
          7.742471325922462,
          7.269369563346044,
          7.345560108623699,
          7.348673599112209,
          7.246629802141861,
          7.275881583030348,
          7.644218571861101,
          7.55769616899375,
          7.569788916744926,
          7.659000486703871,
          7.113111781619121,
          7.1008252026137955,
          7.17597807005466,
          7.26581939108859,
          7.192706259889427,
          7.265237503769501
         ]
        },
        {
         "marker": {
          "size": 2
         },
         "mode": "markers",
         "name": "Lower barrier",
         "type": "scatter",
         "x": [
          0,
          1,
          2,
          3,
          4,
          5,
          6,
          7,
          8,
          9,
          10,
          11,
          12,
          13,
          14,
          15,
          16,
          17,
          18,
          19,
          20,
          21,
          22,
          23,
          24,
          25,
          26,
          27,
          28,
          29,
          30,
          31,
          32,
          33,
          34,
          35,
          36,
          37,
          38,
          39,
          40,
          41,
          42,
          43,
          44,
          45,
          46,
          47,
          48,
          49,
          50,
          51,
          52,
          53,
          54,
          55,
          56,
          57,
          58,
          59,
          60,
          61,
          62,
          63,
          64,
          65,
          66,
          67,
          68,
          69,
          70,
          71,
          72,
          73,
          74,
          75,
          76,
          77,
          78,
          79,
          80,
          81,
          82,
          83,
          84,
          85,
          86,
          87,
          88,
          89,
          90,
          91,
          92,
          93,
          94,
          95,
          96,
          97,
          98,
          99,
          100
         ],
         "y": [
          7.15,
          7.15,
          7.15,
          7.15,
          7.15,
          7.15,
          7.15,
          7.15,
          7.15,
          7.15,
          7.15,
          7.15,
          7.15,
          7.15,
          7.15,
          7.15,
          7.15,
          7.15,
          7.15,
          7.15,
          7.15,
          7.15,
          7.15,
          7.15,
          7.15,
          7.15,
          7.15,
          7.15,
          7.15,
          7.15,
          7.15,
          7.15,
          7.15,
          7.15,
          7.15,
          7.15,
          7.15,
          7.15,
          7.15,
          7.15,
          7.15,
          7.15,
          7.15,
          7.15,
          7.15,
          7.15,
          7.15,
          7.15,
          7.15,
          7.15,
          7.15,
          7.15,
          7.15,
          7.15,
          7.15,
          7.15,
          7.15,
          7.15,
          7.15,
          7.15,
          7.15,
          7.15,
          7.15,
          7.15,
          7.15,
          7.15,
          7.15,
          7.15,
          7.15,
          7.15,
          7.15,
          7.15,
          7.15,
          7.15,
          7.15,
          7.15,
          7.15,
          7.15,
          7.15,
          7.15,
          7.15,
          7.15,
          7.15,
          7.15,
          7.15,
          7.15,
          7.15,
          7.15,
          7.15,
          7.15,
          7.15,
          7.15,
          7.15,
          7.15,
          7.15,
          7.15,
          7.15,
          7.15,
          7.15,
          7.15,
          7.15
         ]
        },
        {
         "marker": {
          "size": 2
         },
         "mode": "markers",
         "name": "Upper barrier",
         "type": "scatter",
         "x": [
          0,
          1,
          2,
          3,
          4,
          5,
          6,
          7,
          8,
          9,
          10,
          11,
          12,
          13,
          14,
          15,
          16,
          17,
          18,
          19,
          20,
          21,
          22,
          23,
          24,
          25,
          26,
          27,
          28,
          29,
          30,
          31,
          32,
          33,
          34,
          35,
          36,
          37,
          38,
          39,
          40,
          41,
          42,
          43,
          44,
          45,
          46,
          47,
          48,
          49,
          50,
          51,
          52,
          53,
          54,
          55,
          56,
          57,
          58,
          59,
          60,
          61,
          62,
          63,
          64,
          65,
          66,
          67,
          68,
          69,
          70,
          71,
          72,
          73,
          74,
          75,
          76,
          77,
          78,
          79,
          80,
          81,
          82,
          83,
          84,
          85,
          86,
          87,
          88,
          89,
          90,
          91,
          92,
          93,
          94,
          95,
          96,
          97,
          98,
          99,
          100
         ],
         "y": [
          7.75,
          7.75,
          7.75,
          7.75,
          7.75,
          7.75,
          7.75,
          7.75,
          7.75,
          7.75,
          7.75,
          7.75,
          7.75,
          7.75,
          7.75,
          7.75,
          7.75,
          7.75,
          7.75,
          7.75,
          7.75,
          7.75,
          7.75,
          7.75,
          7.75,
          7.75,
          7.75,
          7.75,
          7.75,
          7.75,
          7.75,
          7.75,
          7.75,
          7.75,
          7.75,
          7.75,
          7.75,
          7.75,
          7.75,
          7.75,
          7.75,
          7.75,
          7.75,
          7.75,
          7.75,
          7.75,
          7.75,
          7.75,
          7.75,
          7.75,
          7.75,
          7.75,
          7.75,
          7.75,
          7.75,
          7.75,
          7.75,
          7.75,
          7.75,
          7.75,
          7.75,
          7.75,
          7.75,
          7.75,
          7.75,
          7.75,
          7.75,
          7.75,
          7.75,
          7.75,
          7.75,
          7.75,
          7.75,
          7.75,
          7.75,
          7.75,
          7.75,
          7.75,
          7.75,
          7.75,
          7.75,
          7.75,
          7.75,
          7.75,
          7.75,
          7.75,
          7.75,
          7.75,
          7.75,
          7.75,
          7.75,
          7.75,
          7.75,
          7.75,
          7.75,
          7.75,
          7.75,
          7.75,
          7.75,
          7.75,
          7.75
         ]
        }
       ],
       "layout": {
        "height": 450,
        "plot_bgcolor": "rgba(0, 0, 0, 0)",
        "template": {
         "data": {
          "bar": [
           {
            "error_x": {
             "color": "#2a3f5f"
            },
            "error_y": {
             "color": "#2a3f5f"
            },
            "marker": {
             "line": {
              "color": "#E5ECF6",
              "width": 0.5
             },
             "pattern": {
              "fillmode": "overlay",
              "size": 10,
              "solidity": 0.2
             }
            },
            "type": "bar"
           }
          ],
          "barpolar": [
           {
            "marker": {
             "line": {
              "color": "#E5ECF6",
              "width": 0.5
             },
             "pattern": {
              "fillmode": "overlay",
              "size": 10,
              "solidity": 0.2
             }
            },
            "type": "barpolar"
           }
          ],
          "carpet": [
           {
            "aaxis": {
             "endlinecolor": "#2a3f5f",
             "gridcolor": "white",
             "linecolor": "white",
             "minorgridcolor": "white",
             "startlinecolor": "#2a3f5f"
            },
            "baxis": {
             "endlinecolor": "#2a3f5f",
             "gridcolor": "white",
             "linecolor": "white",
             "minorgridcolor": "white",
             "startlinecolor": "#2a3f5f"
            },
            "type": "carpet"
           }
          ],
          "choropleth": [
           {
            "colorbar": {
             "outlinewidth": 0,
             "ticks": ""
            },
            "type": "choropleth"
           }
          ],
          "contour": [
           {
            "colorbar": {
             "outlinewidth": 0,
             "ticks": ""
            },
            "colorscale": [
             [
              0,
              "#0d0887"
             ],
             [
              0.1111111111111111,
              "#46039f"
             ],
             [
              0.2222222222222222,
              "#7201a8"
             ],
             [
              0.3333333333333333,
              "#9c179e"
             ],
             [
              0.4444444444444444,
              "#bd3786"
             ],
             [
              0.5555555555555556,
              "#d8576b"
             ],
             [
              0.6666666666666666,
              "#ed7953"
             ],
             [
              0.7777777777777778,
              "#fb9f3a"
             ],
             [
              0.8888888888888888,
              "#fdca26"
             ],
             [
              1,
              "#f0f921"
             ]
            ],
            "type": "contour"
           }
          ],
          "contourcarpet": [
           {
            "colorbar": {
             "outlinewidth": 0,
             "ticks": ""
            },
            "type": "contourcarpet"
           }
          ],
          "heatmap": [
           {
            "colorbar": {
             "outlinewidth": 0,
             "ticks": ""
            },
            "colorscale": [
             [
              0,
              "#0d0887"
             ],
             [
              0.1111111111111111,
              "#46039f"
             ],
             [
              0.2222222222222222,
              "#7201a8"
             ],
             [
              0.3333333333333333,
              "#9c179e"
             ],
             [
              0.4444444444444444,
              "#bd3786"
             ],
             [
              0.5555555555555556,
              "#d8576b"
             ],
             [
              0.6666666666666666,
              "#ed7953"
             ],
             [
              0.7777777777777778,
              "#fb9f3a"
             ],
             [
              0.8888888888888888,
              "#fdca26"
             ],
             [
              1,
              "#f0f921"
             ]
            ],
            "type": "heatmap"
           }
          ],
          "heatmapgl": [
           {
            "colorbar": {
             "outlinewidth": 0,
             "ticks": ""
            },
            "colorscale": [
             [
              0,
              "#0d0887"
             ],
             [
              0.1111111111111111,
              "#46039f"
             ],
             [
              0.2222222222222222,
              "#7201a8"
             ],
             [
              0.3333333333333333,
              "#9c179e"
             ],
             [
              0.4444444444444444,
              "#bd3786"
             ],
             [
              0.5555555555555556,
              "#d8576b"
             ],
             [
              0.6666666666666666,
              "#ed7953"
             ],
             [
              0.7777777777777778,
              "#fb9f3a"
             ],
             [
              0.8888888888888888,
              "#fdca26"
             ],
             [
              1,
              "#f0f921"
             ]
            ],
            "type": "heatmapgl"
           }
          ],
          "histogram": [
           {
            "marker": {
             "pattern": {
              "fillmode": "overlay",
              "size": 10,
              "solidity": 0.2
             }
            },
            "type": "histogram"
           }
          ],
          "histogram2d": [
           {
            "colorbar": {
             "outlinewidth": 0,
             "ticks": ""
            },
            "colorscale": [
             [
              0,
              "#0d0887"
             ],
             [
              0.1111111111111111,
              "#46039f"
             ],
             [
              0.2222222222222222,
              "#7201a8"
             ],
             [
              0.3333333333333333,
              "#9c179e"
             ],
             [
              0.4444444444444444,
              "#bd3786"
             ],
             [
              0.5555555555555556,
              "#d8576b"
             ],
             [
              0.6666666666666666,
              "#ed7953"
             ],
             [
              0.7777777777777778,
              "#fb9f3a"
             ],
             [
              0.8888888888888888,
              "#fdca26"
             ],
             [
              1,
              "#f0f921"
             ]
            ],
            "type": "histogram2d"
           }
          ],
          "histogram2dcontour": [
           {
            "colorbar": {
             "outlinewidth": 0,
             "ticks": ""
            },
            "colorscale": [
             [
              0,
              "#0d0887"
             ],
             [
              0.1111111111111111,
              "#46039f"
             ],
             [
              0.2222222222222222,
              "#7201a8"
             ],
             [
              0.3333333333333333,
              "#9c179e"
             ],
             [
              0.4444444444444444,
              "#bd3786"
             ],
             [
              0.5555555555555556,
              "#d8576b"
             ],
             [
              0.6666666666666666,
              "#ed7953"
             ],
             [
              0.7777777777777778,
              "#fb9f3a"
             ],
             [
              0.8888888888888888,
              "#fdca26"
             ],
             [
              1,
              "#f0f921"
             ]
            ],
            "type": "histogram2dcontour"
           }
          ],
          "mesh3d": [
           {
            "colorbar": {
             "outlinewidth": 0,
             "ticks": ""
            },
            "type": "mesh3d"
           }
          ],
          "parcoords": [
           {
            "line": {
             "colorbar": {
              "outlinewidth": 0,
              "ticks": ""
             }
            },
            "type": "parcoords"
           }
          ],
          "pie": [
           {
            "automargin": true,
            "type": "pie"
           }
          ],
          "scatter": [
           {
            "fillpattern": {
             "fillmode": "overlay",
             "size": 10,
             "solidity": 0.2
            },
            "type": "scatter"
           }
          ],
          "scatter3d": [
           {
            "line": {
             "colorbar": {
              "outlinewidth": 0,
              "ticks": ""
             }
            },
            "marker": {
             "colorbar": {
              "outlinewidth": 0,
              "ticks": ""
             }
            },
            "type": "scatter3d"
           }
          ],
          "scattercarpet": [
           {
            "marker": {
             "colorbar": {
              "outlinewidth": 0,
              "ticks": ""
             }
            },
            "type": "scattercarpet"
           }
          ],
          "scattergeo": [
           {
            "marker": {
             "colorbar": {
              "outlinewidth": 0,
              "ticks": ""
             }
            },
            "type": "scattergeo"
           }
          ],
          "scattergl": [
           {
            "marker": {
             "colorbar": {
              "outlinewidth": 0,
              "ticks": ""
             }
            },
            "type": "scattergl"
           }
          ],
          "scattermapbox": [
           {
            "marker": {
             "colorbar": {
              "outlinewidth": 0,
              "ticks": ""
             }
            },
            "type": "scattermapbox"
           }
          ],
          "scatterpolar": [
           {
            "marker": {
             "colorbar": {
              "outlinewidth": 0,
              "ticks": ""
             }
            },
            "type": "scatterpolar"
           }
          ],
          "scatterpolargl": [
           {
            "marker": {
             "colorbar": {
              "outlinewidth": 0,
              "ticks": ""
             }
            },
            "type": "scatterpolargl"
           }
          ],
          "scatterternary": [
           {
            "marker": {
             "colorbar": {
              "outlinewidth": 0,
              "ticks": ""
             }
            },
            "type": "scatterternary"
           }
          ],
          "surface": [
           {
            "colorbar": {
             "outlinewidth": 0,
             "ticks": ""
            },
            "colorscale": [
             [
              0,
              "#0d0887"
             ],
             [
              0.1111111111111111,
              "#46039f"
             ],
             [
              0.2222222222222222,
              "#7201a8"
             ],
             [
              0.3333333333333333,
              "#9c179e"
             ],
             [
              0.4444444444444444,
              "#bd3786"
             ],
             [
              0.5555555555555556,
              "#d8576b"
             ],
             [
              0.6666666666666666,
              "#ed7953"
             ],
             [
              0.7777777777777778,
              "#fb9f3a"
             ],
             [
              0.8888888888888888,
              "#fdca26"
             ],
             [
              1,
              "#f0f921"
             ]
            ],
            "type": "surface"
           }
          ],
          "table": [
           {
            "cells": {
             "fill": {
              "color": "#EBF0F8"
             },
             "line": {
              "color": "white"
             }
            },
            "header": {
             "fill": {
              "color": "#C8D4E3"
             },
             "line": {
              "color": "white"
             }
            },
            "type": "table"
           }
          ]
         },
         "layout": {
          "annotationdefaults": {
           "arrowcolor": "#2a3f5f",
           "arrowhead": 0,
           "arrowwidth": 1
          },
          "autotypenumbers": "strict",
          "coloraxis": {
           "colorbar": {
            "outlinewidth": 0,
            "ticks": ""
           }
          },
          "colorscale": {
           "diverging": [
            [
             0,
             "#8e0152"
            ],
            [
             0.1,
             "#c51b7d"
            ],
            [
             0.2,
             "#de77ae"
            ],
            [
             0.3,
             "#f1b6da"
            ],
            [
             0.4,
             "#fde0ef"
            ],
            [
             0.5,
             "#f7f7f7"
            ],
            [
             0.6,
             "#e6f5d0"
            ],
            [
             0.7,
             "#b8e186"
            ],
            [
             0.8,
             "#7fbc41"
            ],
            [
             0.9,
             "#4d9221"
            ],
            [
             1,
             "#276419"
            ]
           ],
           "sequential": [
            [
             0,
             "#0d0887"
            ],
            [
             0.1111111111111111,
             "#46039f"
            ],
            [
             0.2222222222222222,
             "#7201a8"
            ],
            [
             0.3333333333333333,
             "#9c179e"
            ],
            [
             0.4444444444444444,
             "#bd3786"
            ],
            [
             0.5555555555555556,
             "#d8576b"
            ],
            [
             0.6666666666666666,
             "#ed7953"
            ],
            [
             0.7777777777777778,
             "#fb9f3a"
            ],
            [
             0.8888888888888888,
             "#fdca26"
            ],
            [
             1,
             "#f0f921"
            ]
           ],
           "sequentialminus": [
            [
             0,
             "#0d0887"
            ],
            [
             0.1111111111111111,
             "#46039f"
            ],
            [
             0.2222222222222222,
             "#7201a8"
            ],
            [
             0.3333333333333333,
             "#9c179e"
            ],
            [
             0.4444444444444444,
             "#bd3786"
            ],
            [
             0.5555555555555556,
             "#d8576b"
            ],
            [
             0.6666666666666666,
             "#ed7953"
            ],
            [
             0.7777777777777778,
             "#fb9f3a"
            ],
            [
             0.8888888888888888,
             "#fdca26"
            ],
            [
             1,
             "#f0f921"
            ]
           ]
          },
          "colorway": [
           "#636efa",
           "#EF553B",
           "#00cc96",
           "#ab63fa",
           "#FFA15A",
           "#19d3f3",
           "#FF6692",
           "#B6E880",
           "#FF97FF",
           "#FECB52"
          ],
          "font": {
           "color": "#2a3f5f"
          },
          "geo": {
           "bgcolor": "white",
           "lakecolor": "white",
           "landcolor": "#E5ECF6",
           "showlakes": true,
           "showland": true,
           "subunitcolor": "white"
          },
          "hoverlabel": {
           "align": "left"
          },
          "hovermode": "closest",
          "mapbox": {
           "style": "light"
          },
          "paper_bgcolor": "white",
          "plot_bgcolor": "#E5ECF6",
          "polar": {
           "angularaxis": {
            "gridcolor": "white",
            "linecolor": "white",
            "ticks": ""
           },
           "bgcolor": "#E5ECF6",
           "radialaxis": {
            "gridcolor": "white",
            "linecolor": "white",
            "ticks": ""
           }
          },
          "scene": {
           "xaxis": {
            "backgroundcolor": "#E5ECF6",
            "gridcolor": "white",
            "gridwidth": 2,
            "linecolor": "white",
            "showbackground": true,
            "ticks": "",
            "zerolinecolor": "white"
           },
           "yaxis": {
            "backgroundcolor": "#E5ECF6",
            "gridcolor": "white",
            "gridwidth": 2,
            "linecolor": "white",
            "showbackground": true,
            "ticks": "",
            "zerolinecolor": "white"
           },
           "zaxis": {
            "backgroundcolor": "#E5ECF6",
            "gridcolor": "white",
            "gridwidth": 2,
            "linecolor": "white",
            "showbackground": true,
            "ticks": "",
            "zerolinecolor": "white"
           }
          },
          "shapedefaults": {
           "line": {
            "color": "#2a3f5f"
           }
          },
          "ternary": {
           "aaxis": {
            "gridcolor": "white",
            "linecolor": "white",
            "ticks": ""
           },
           "baxis": {
            "gridcolor": "white",
            "linecolor": "white",
            "ticks": ""
           },
           "bgcolor": "#E5ECF6",
           "caxis": {
            "gridcolor": "white",
            "linecolor": "white",
            "ticks": ""
           }
          },
          "title": {
           "x": 0.05
          },
          "xaxis": {
           "automargin": true,
           "gridcolor": "white",
           "linecolor": "white",
           "ticks": "",
           "title": {
            "standoff": 15
           },
           "zerolinecolor": "white",
           "zerolinewidth": 2
          },
          "yaxis": {
           "automargin": true,
           "gridcolor": "white",
           "linecolor": "white",
           "ticks": "",
           "title": {
            "standoff": 15
           },
           "zerolinecolor": "white",
           "zerolinewidth": 2
          }
         }
        },
        "title": {
         "text": "Симуляция траектории мгновенной процентной ставки",
         "x": 0.5
        },
        "width": 800,
        "xaxis": {
         "autorange": true,
         "gridcolor": "LightGray",
         "range": [
          -6.216537775133849,
          106.21653777513384
         ],
         "type": "linear"
        },
        "yaxis": {
         "autorange": true,
         "gridcolor": "LightGray",
         "range": [
          6.5081975744949725,
          8.306140624586902
         ],
         "type": "linear"
        }
       }
      },
      "image/png": "[encoded data removed]",
      "text/html": [
       "<div>                            <div id=\"668b6619-b840-4011-ba58-a91c2347e50f\" class=\"plotly-graph-div\" style=\"height:450px; width:800px;\"></div>            <script type=\"text/javascript\">                require([\"plotly\"], function(Plotly) {                    window.PLOTLYENV=window.PLOTLYENV || {};                                    if (document.getElementById(\"668b6619-b840-4011-ba58-a91c2347e50f\")) {                    Plotly.newPlot(                        \"668b6619-b840-4011-ba58-a91c2347e50f\",                        [{\"line\":{\"width\":1},\"mode\":\"lines\",\"name\":\"\\u0422\\u0440\\u0430\\u0435\\u043a\\u0442\\u043e\\u0440\\u0438\\u044f 0\",\"x\":[0,1,2,3,4,5,6,7,8,9,10,11,12,13,14,15,16,17,18,19,20,21,22,23,24,25,26,27,28,29,30,31,32,33,34,35,36,37,38,39,40,41,42,43,44,45,46,47,48,49,50,51,52,53,54,55,56,57,58,59,60,61,62,63,64,65,66,67,68,69,70,71,72,73,74,75,76,77,78,79,80,81,82,83,84,85,86,87,88,89,90,91,92,93,94,95,96,97,98,99,100],\"y\":[7.45,7.382322101193932,7.24702071129048,7.3797260169534775,7.651230486259485,7.420157601905568,8.174428297138844,7.405722538046014,7.6044338595237155,7.343765974572087,7.056903931817885,7.2736690206273105,7.389036056135829,7.369414995817848,7.452266142530291,7.68936076503373,7.497769193958517,7.465492243697,8.04589318701681,7.301364605847539,7.927374532420583,7.280603373661709,7.750704766412762,7.2668006320228,6.765768289377313,7.55061751963073,7.36157760931836,7.448672746482472,7.5200912104145266,7.529531628249319,6.598094726999569,7.337590919696483,6.90303592122392,7.675005229952202,7.739692347970747,7.59250712125516,7.097498369444456,7.206795307420253,7.673558962440695,7.219196342371014,7.736410659024852,7.562416101788312,7.725200814163926,7.353180735906048,6.987891730606936,7.338900066644219,6.732601298655099,6.9548926549533485,7.1433828630448035,7.387194365100565,7.529351787832176,7.127068105870975,7.482939572192662,7.243194844562615,7.359889650607846,7.704590515053338,7.30117275191221,7.440285024672376,7.435389748381131,7.8795497827571115,7.669069760134538,7.011116928876277,7.744010814749914,7.928124222417376,7.418618329114273,7.528045790582405,7.09165279360835,7.422634626719589,7.441345883427147,7.380404166816036,7.415195239831241,7.302359666438394,7.273443657023627,7.9316150551330615,7.680440113045172,8.041101394748571,7.534733819677075,6.969904214741338,7.787172441973673,6.956681024254114,7.6940443955536795,7.1892698401437505,7.042603607911444,7.680717923021605,7.901254451673086,7.651777200959529,7.081090362109263,7.767330911391314,6.956930561502985,7.568626071168007,7.839986840641748,7.78464098366391,6.77115739797851,7.354669604892567,7.299482684856762,7.90785357675299,7.671748204009204,8.216243472082306,7.619673801331552,7.296847051961787,7.489168883894949],\"type\":\"scatter\"},{\"line\":{\"width\":1},\"mode\":\"lines\",\"name\":\"\\u0422\\u0440\\u0430\\u0435\\u043a\\u0442\\u043e\\u0440\\u0438\\u044f 1\",\"x\":[0,1,2,3,4,5,6,7,8,9,10,11,12,13,14,15,16,17,18,19,20,21,22,23,24,25,26,27,28,29,30,31,32,33,34,35,36,37,38,39,40,41,42,43,44,45,46,47,48,49,50,51,52,53,54,55,56,57,58,59,60,61,62,63,64,65,66,67,68,69,70,71,72,73,74,75,76,77,78,79,80,81,82,83,84,85,86,87,88,89,90,91,92,93,94,95,96,97,98,99,100],\"y\":[7.45,7.218953429978244,7.779577322233794,7.1675896873010965,7.736507096879219,7.776877788019677,7.213684576312079,7.4688438355052,7.352582383852294,7.759255004466345,7.813804191453692,7.632321710950111,7.70451502509607,7.9070442756777926,7.499433930888823,7.309526665815787,7.700331821971238,7.3802671247159575,7.815524992645632,7.87215237548981,7.432294907869774,7.4104688523019275,7.47125933566002,7.518561318212454,7.552178969239396,7.708612775331998,7.168212327768968,7.770939309556387,7.028709863220423,7.5689422566306765,7.384416024318365,7.562986341494695,7.424233872823202,7.349961458624338,7.645302968694553,7.077324413777407,7.641832998609208,7.1004977918011365,7.401479989541371,7.462079949073418,7.117928239615543,7.656344240391355,7.408082365605163,7.683035592954641,7.447080624454518,8.087028754465873,7.66562405098504,7.084532507516522,8.059829259976478,7.136024801086322,7.020151211752626,7.0091351164261955,7.814548164861166,7.491345469333361,7.264306822697674,7.058206028260075,6.851919796246833,6.96137149655889,7.47445178589858,7.526674038980575,8.072153650038883,7.622204427828757,7.689117722862214,7.079108973297234,7.173199825311766,7.169620514337623,7.379227551588391,6.955832558722871,7.43901223009561,7.553828297541311,7.61772565733938,7.569649644041161,7.745724877267575,7.022495999041325,7.566992013402887,7.385363641904693,7.080386689322214,7.2635273472070745,7.595156149413638,7.039604988161118,7.410573444166677,8.198772435232383,7.529684592351026,7.5121748986735115,7.344439044692468,7.742471325922462,7.269369563346044,7.345560108623699,7.348673599112209,7.246629802141861,7.275881583030348,7.644218571861101,7.55769616899375,7.569788916744926,7.659000486703871,7.113111781619121,7.1008252026137955,7.17597807005466,7.26581939108859,7.192706259889427,7.265237503769501],\"type\":\"scatter\"},{\"marker\":{\"size\":2},\"mode\":\"markers\",\"name\":\"Lower barrier\",\"x\":[0,1,2,3,4,5,6,7,8,9,10,11,12,13,14,15,16,17,18,19,20,21,22,23,24,25,26,27,28,29,30,31,32,33,34,35,36,37,38,39,40,41,42,43,44,45,46,47,48,49,50,51,52,53,54,55,56,57,58,59,60,61,62,63,64,65,66,67,68,69,70,71,72,73,74,75,76,77,78,79,80,81,82,83,84,85,86,87,88,89,90,91,92,93,94,95,96,97,98,99,100],\"y\":[7.15,7.15,7.15,7.15,7.15,7.15,7.15,7.15,7.15,7.15,7.15,7.15,7.15,7.15,7.15,7.15,7.15,7.15,7.15,7.15,7.15,7.15,7.15,7.15,7.15,7.15,7.15,7.15,7.15,7.15,7.15,7.15,7.15,7.15,7.15,7.15,7.15,7.15,7.15,7.15,7.15,7.15,7.15,7.15,7.15,7.15,7.15,7.15,7.15,7.15,7.15,7.15,7.15,7.15,7.15,7.15,7.15,7.15,7.15,7.15,7.15,7.15,7.15,7.15,7.15,7.15,7.15,7.15,7.15,7.15,7.15,7.15,7.15,7.15,7.15,7.15,7.15,7.15,7.15,7.15,7.15,7.15,7.15,7.15,7.15,7.15,7.15,7.15,7.15,7.15,7.15,7.15,7.15,7.15,7.15,7.15,7.15,7.15,7.15,7.15,7.15],\"type\":\"scatter\"},{\"marker\":{\"size\":2},\"mode\":\"markers\",\"name\":\"Upper barrier\",\"x\":[0,1,2,3,4,5,6,7,8,9,10,11,12,13,14,15,16,17,18,19,20,21,22,23,24,25,26,27,28,29,30,31,32,33,34,35,36,37,38,39,40,41,42,43,44,45,46,47,48,49,50,51,52,53,54,55,56,57,58,59,60,61,62,63,64,65,66,67,68,69,70,71,72,73,74,75,76,77,78,79,80,81,82,83,84,85,86,87,88,89,90,91,92,93,94,95,96,97,98,99,100],\"y\":[7.75,7.75,7.75,7.75,7.75,7.75,7.75,7.75,7.75,7.75,7.75,7.75,7.75,7.75,7.75,7.75,7.75,7.75,7.75,7.75,7.75,7.75,7.75,7.75,7.75,7.75,7.75,7.75,7.75,7.75,7.75,7.75,7.75,7.75,7.75,7.75,7.75,7.75,7.75,7.75,7.75,7.75,7.75,7.75,7.75,7.75,7.75,7.75,7.75,7.75,7.75,7.75,7.75,7.75,7.75,7.75,7.75,7.75,7.75,7.75,7.75,7.75,7.75,7.75,7.75,7.75,7.75,7.75,7.75,7.75,7.75,7.75,7.75,7.75,7.75,7.75,7.75,7.75,7.75,7.75,7.75,7.75,7.75,7.75,7.75,7.75,7.75,7.75,7.75,7.75,7.75,7.75,7.75,7.75,7.75,7.75,7.75,7.75,7.75,7.75,7.75],\"type\":\"scatter\"}],                        {\"template\":{\"data\":{\"histogram2dcontour\":[{\"type\":\"histogram2dcontour\",\"colorbar\":{\"outlinewidth\":0,\"ticks\":\"\"},\"colorscale\":[[0.0,\"#0d0887\"],[0.1111111111111111,\"#46039f\"],[0.2222222222222222,\"#7201a8\"],[0.3333333333333333,\"#9c179e\"],[0.4444444444444444,\"#bd3786\"],[0.5555555555555556,\"#d8576b\"],[0.6666666666666666,\"#ed7953\"],[0.7777777777777778,\"#fb9f3a\"],[0.8888888888888888,\"#fdca26\"],[1.0,\"#f0f921\"]]}],\"choropleth\":[{\"type\":\"choropleth\",\"colorbar\":{\"outlinewidth\":0,\"ticks\":\"\"}}],\"histogram2d\":[{\"type\":\"histogram2d\",\"colorbar\":{\"outlinewidth\":0,\"ticks\":\"\"},\"colorscale\":[[0.0,\"#0d0887\"],[0.1111111111111111,\"#46039f\"],[0.2222222222222222,\"#7201a8\"],[0.3333333333333333,\"#9c179e\"],[0.4444444444444444,\"#bd3786\"],[0.5555555555555556,\"#d8576b\"],[0.6666666666666666,\"#ed7953\"],[0.7777777777777778,\"#fb9f3a\"],[0.8888888888888888,\"#fdca26\"],[1.0,\"#f0f921\"]]}],\"heatmap\":[{\"type\":\"heatmap\",\"colorbar\":{\"outlinewidth\":0,\"ticks\":\"\"},\"colorscale\":[[0.0,\"#0d0887\"],[0.1111111111111111,\"#46039f\"],[0.2222222222222222,\"#7201a8\"],[0.3333333333333333,\"#9c179e\"],[0.4444444444444444,\"#bd3786\"],[0.5555555555555556,\"#d8576b\"],[0.6666666666666666,\"#ed7953\"],[0.7777777777777778,\"#fb9f3a\"],[0.8888888888888888,\"#fdca26\"],[1.0,\"#f0f921\"]]}],\"heatmapgl\":[{\"type\":\"heatmapgl\",\"colorbar\":{\"outlinewidth\":0,\"ticks\":\"\"},\"colorscale\":[[0.0,\"#0d0887\"],[0.1111111111111111,\"#46039f\"],[0.2222222222222222,\"#7201a8\"],[0.3333333333333333,\"#9c179e\"],[0.4444444444444444,\"#bd3786\"],[0.5555555555555556,\"#d8576b\"],[0.6666666666666666,\"#ed7953\"],[0.7777777777777778,\"#fb9f3a\"],[0.8888888888888888,\"#fdca26\"],[1.0,\"#f0f921\"]]}],\"contourcarpet\":[{\"type\":\"contourcarpet\",\"colorbar\":{\"outlinewidth\":0,\"ticks\":\"\"}}],\"contour\":[{\"type\":\"contour\",\"colorbar\":{\"outlinewidth\":0,\"ticks\":\"\"},\"colorscale\":[[0.0,\"#0d0887\"],[0.1111111111111111,\"#46039f\"],[0.2222222222222222,\"#7201a8\"],[0.3333333333333333,\"#9c179e\"],[0.4444444444444444,\"#bd3786\"],[0.5555555555555556,\"#d8576b\"],[0.6666666666666666,\"#ed7953\"],[0.7777777777777778,\"#fb9f3a\"],[0.8888888888888888,\"#fdca26\"],[1.0,\"#f0f921\"]]}],\"surface\":[{\"type\":\"surface\",\"colorbar\":{\"outlinewidth\":0,\"ticks\":\"\"},\"colorscale\":[[0.0,\"#0d0887\"],[0.1111111111111111,\"#46039f\"],[0.2222222222222222,\"#7201a8\"],[0.3333333333333333,\"#9c179e\"],[0.4444444444444444,\"#bd3786\"],[0.5555555555555556,\"#d8576b\"],[0.6666666666666666,\"#ed7953\"],[0.7777777777777778,\"#fb9f3a\"],[0.8888888888888888,\"#fdca26\"],[1.0,\"#f0f921\"]]}],\"mesh3d\":[{\"type\":\"mesh3d\",\"colorbar\":{\"outlinewidth\":0,\"ticks\":\"\"}}],\"scatter\":[{\"fillpattern\":{\"fillmode\":\"overlay\",\"size\":10,\"solidity\":0.2},\"type\":\"scatter\"}],\"parcoords\":[{\"type\":\"parcoords\",\"line\":{\"colorbar\":{\"outlinewidth\":0,\"ticks\":\"\"}}}],\"scatterpolargl\":[{\"type\":\"scatterpolargl\",\"marker\":{\"colorbar\":{\"outlinewidth\":0,\"ticks\":\"\"}}}],\"bar\":[{\"error_x\":{\"color\":\"#2a3f5f\"},\"error_y\":{\"color\":\"#2a3f5f\"},\"marker\":{\"line\":{\"color\":\"#E5ECF6\",\"width\":0.5},\"pattern\":{\"fillmode\":\"overlay\",\"size\":10,\"solidity\":0.2}},\"type\":\"bar\"}],\"scattergeo\":[{\"type\":\"scattergeo\",\"marker\":{\"colorbar\":{\"outlinewidth\":0,\"ticks\":\"\"}}}],\"scatterpolar\":[{\"type\":\"scatterpolar\",\"marker\":{\"colorbar\":{\"outlinewidth\":0,\"ticks\":\"\"}}}],\"histogram\":[{\"marker\":{\"pattern\":{\"fillmode\":\"overlay\",\"size\":10,\"solidity\":0.2}},\"type\":\"histogram\"}],\"scattergl\":[{\"type\":\"scattergl\",\"marker\":{\"colorbar\":{\"outlinewidth\":0,\"ticks\":\"\"}}}],\"scatter3d\":[{\"type\":\"scatter3d\",\"line\":{\"colorbar\":{\"outlinewidth\":0,\"ticks\":\"\"}},\"marker\":{\"colorbar\":{\"outlinewidth\":0,\"ticks\":\"\"}}}],\"scattermapbox\":[{\"type\":\"scattermapbox\",\"marker\":{\"colorbar\":{\"outlinewidth\":0,\"ticks\":\"\"}}}],\"scatterternary\":[{\"type\":\"scatterternary\",\"marker\":{\"colorbar\":{\"outlinewidth\":0,\"ticks\":\"\"}}}],\"scattercarpet\":[{\"type\":\"scattercarpet\",\"marker\":{\"colorbar\":{\"outlinewidth\":0,\"ticks\":\"\"}}}],\"carpet\":[{\"aaxis\":{\"endlinecolor\":\"#2a3f5f\",\"gridcolor\":\"white\",\"linecolor\":\"white\",\"minorgridcolor\":\"white\",\"startlinecolor\":\"#2a3f5f\"},\"baxis\":{\"endlinecolor\":\"#2a3f5f\",\"gridcolor\":\"white\",\"linecolor\":\"white\",\"minorgridcolor\":\"white\",\"startlinecolor\":\"#2a3f5f\"},\"type\":\"carpet\"}],\"table\":[{\"cells\":{\"fill\":{\"color\":\"#EBF0F8\"},\"line\":{\"color\":\"white\"}},\"header\":{\"fill\":{\"color\":\"#C8D4E3\"},\"line\":{\"color\":\"white\"}},\"type\":\"table\"}],\"barpolar\":[{\"marker\":{\"line\":{\"color\":\"#E5ECF6\",\"width\":0.5},\"pattern\":{\"fillmode\":\"overlay\",\"size\":10,\"solidity\":0.2}},\"type\":\"barpolar\"}],\"pie\":[{\"automargin\":true,\"type\":\"pie\"}]},\"layout\":{\"autotypenumbers\":\"strict\",\"colorway\":[\"#636efa\",\"#EF553B\",\"#00cc96\",\"#ab63fa\",\"#FFA15A\",\"#19d3f3\",\"#FF6692\",\"#B6E880\",\"#FF97FF\",\"#FECB52\"],\"font\":{\"color\":\"#2a3f5f\"},\"hovermode\":\"closest\",\"hoverlabel\":{\"align\":\"left\"},\"paper_bgcolor\":\"white\",\"plot_bgcolor\":\"#E5ECF6\",\"polar\":{\"bgcolor\":\"#E5ECF6\",\"angularaxis\":{\"gridcolor\":\"white\",\"linecolor\":\"white\",\"ticks\":\"\"},\"radialaxis\":{\"gridcolor\":\"white\",\"linecolor\":\"white\",\"ticks\":\"\"}},\"ternary\":{\"bgcolor\":\"#E5ECF6\",\"aaxis\":{\"gridcolor\":\"white\",\"linecolor\":\"white\",\"ticks\":\"\"},\"baxis\":{\"gridcolor\":\"white\",\"linecolor\":\"white\",\"ticks\":\"\"},\"caxis\":{\"gridcolor\":\"white\",\"linecolor\":\"white\",\"ticks\":\"\"}},\"coloraxis\":{\"colorbar\":{\"outlinewidth\":0,\"ticks\":\"\"}},\"colorscale\":{\"sequential\":[[0.0,\"#0d0887\"],[0.1111111111111111,\"#46039f\"],[0.2222222222222222,\"#7201a8\"],[0.3333333333333333,\"#9c179e\"],[0.4444444444444444,\"#bd3786\"],[0.5555555555555556,\"#d8576b\"],[0.6666666666666666,\"#ed7953\"],[0.7777777777777778,\"#fb9f3a\"],[0.8888888888888888,\"#fdca26\"],[1.0,\"#f0f921\"]],\"sequentialminus\":[[0.0,\"#0d0887\"],[0.1111111111111111,\"#46039f\"],[0.2222222222222222,\"#7201a8\"],[0.3333333333333333,\"#9c179e\"],[0.4444444444444444,\"#bd3786\"],[0.5555555555555556,\"#d8576b\"],[0.6666666666666666,\"#ed7953\"],[0.7777777777777778,\"#fb9f3a\"],[0.8888888888888888,\"#fdca26\"],[1.0,\"#f0f921\"]],\"diverging\":[[0,\"#8e0152\"],[0.1,\"#c51b7d\"],[0.2,\"#de77ae\"],[0.3,\"#f1b6da\"],[0.4,\"#fde0ef\"],[0.5,\"#f7f7f7\"],[0.6,\"#e6f5d0\"],[0.7,\"#b8e186\"],[0.8,\"#7fbc41\"],[0.9,\"#4d9221\"],[1,\"#276419\"]]},\"xaxis\":{\"gridcolor\":\"white\",\"linecolor\":\"white\",\"ticks\":\"\",\"title\":{\"standoff\":15},\"zerolinecolor\":\"white\",\"automargin\":true,\"zerolinewidth\":2},\"yaxis\":{\"gridcolor\":\"white\",\"linecolor\":\"white\",\"ticks\":\"\",\"title\":{\"standoff\":15},\"zerolinecolor\":\"white\",\"automargin\":true,\"zerolinewidth\":2},\"scene\":{\"xaxis\":{\"backgroundcolor\":\"#E5ECF6\",\"gridcolor\":\"white\",\"linecolor\":\"white\",\"showbackground\":true,\"ticks\":\"\",\"zerolinecolor\":\"white\",\"gridwidth\":2},\"yaxis\":{\"backgroundcolor\":\"#E5ECF6\",\"gridcolor\":\"white\",\"linecolor\":\"white\",\"showbackground\":true,\"ticks\":\"\",\"zerolinecolor\":\"white\",\"gridwidth\":2},\"zaxis\":{\"backgroundcolor\":\"#E5ECF6\",\"gridcolor\":\"white\",\"linecolor\":\"white\",\"showbackground\":true,\"ticks\":\"\",\"zerolinecolor\":\"white\",\"gridwidth\":2}},\"shapedefaults\":{\"line\":{\"color\":\"#2a3f5f\"}},\"annotationdefaults\":{\"arrowcolor\":\"#2a3f5f\",\"arrowhead\":0,\"arrowwidth\":1},\"geo\":{\"bgcolor\":\"white\",\"landcolor\":\"#E5ECF6\",\"subunitcolor\":\"white\",\"showland\":true,\"showlakes\":true,\"lakecolor\":\"white\"},\"title\":{\"x\":0.05},\"mapbox\":{\"style\":\"light\"}}},\"yaxis\":{\"gridcolor\":\"LightGray\"},\"xaxis\":{\"gridcolor\":\"LightGray\"},\"title\":{\"text\":\"\\u0421\\u0438\\u043c\\u0443\\u043b\\u044f\\u0446\\u0438\\u044f \\u0442\\u0440\\u0430\\u0435\\u043a\\u0442\\u043e\\u0440\\u0438\\u0438 \\u043c\\u0433\\u043d\\u043e\\u0432\\u0435\\u043d\\u043d\\u043e\\u0439 \\u043f\\u0440\\u043e\\u0446\\u0435\\u043d\\u0442\\u043d\\u043e\\u0439 \\u0441\\u0442\\u0430\\u0432\\u043a\\u0438\",\"x\":0.5},\"height\":450,\"width\":800,\"plot_bgcolor\":\"rgba(0,0,0,0)\"},                        {\"responsive\": true}                    ).then(function(){\n",
       "                            \n",
       "var gd = document.getElementById('668b6619-b840-4011-ba58-a91c2347e50f');\n",
       "var x = new MutationObserver(function (mutations, observer) {{\n",
       "        var display = window.getComputedStyle(gd).display;\n",
       "        if (!display || display === 'none') {{\n",
       "            console.log([gd, 'removed!']);\n",
       "            Plotly.purge(gd);\n",
       "            observer.disconnect();\n",
       "        }}\n",
       "}});\n",
       "\n",
       "// Listen for the removal of the full notebook cells\n",
       "var notebookContainer = gd.closest('#notebook-container');\n",
       "if (notebookContainer) {{\n",
       "    x.observe(notebookContainer, {childList: true});\n",
       "}}\n",
       "\n",
       "// Listen for the clearing of the current output cell\n",
       "var outputEl = gd.closest('.output');\n",
       "if (outputEl) {{\n",
       "    x.observe(outputEl, {childList: true});\n",
       "}}\n",
       "\n",
       "                        })                };                });            </script>        </div>"
      ]
     },
     "metadata": {},
     "output_type": "display_data"
    }
   ],
   "source": [
    "fig = go.Figure()\n",
    "fig.update_yaxes(gridcolor='LightGray')\n",
    "fig.update_xaxes(gridcolor='LightGray')\n",
    "for i in range(2):\n",
    "    fig.add_trace(go.Scatter(x=list(range(STEP_AMOUNT+1)), y=paths[i], \\\n",
    "                             mode='lines', line_width=1, name= f\"Траектория {i}\"))\n",
    "fig.add_trace(go.Scatter(x=list(range(STEP_AMOUNT+1)), y=np.array([RUB_START_POINT - 0.3]*(STEP_AMOUNT+1)), \\\n",
    "                         mode='markers', marker_size=2, name= \"Lower barrier\"))\n",
    "fig.add_trace(go.Scatter(x=list(range(STEP_AMOUNT+1)), y=np.array([RUB_START_POINT + 0.3]*(STEP_AMOUNT+1)), \\\n",
    "                         mode='markers', marker_size=2, name= \"Upper barrier\"))\n",
    "fig.update_layout(title='Симуляция траектории мгновенной процентной ставки', title_x=0.5, \n",
    "                  height=450, width=800,plot_bgcolor='rgba(0,0,0,0)')\n"
   ]
  },
  {
   "cell_type": "code",
   "execution_count": 199,
   "id": "f6f73a0e-81e4-4b4e-9872-623da5f4ac89",
   "metadata": {},
   "outputs": [
    {
     "data": {
      "text/plain": [
       "array([100, 100])"
      ]
     },
     "execution_count": 199,
     "metadata": {},
     "output_type": "execute_result"
    }
   ],
   "source": [
    "payoffs"
   ]
  },
  {
   "cell_type": "code",
   "execution_count": null,
   "id": "38652c83-6f1f-4d1d-933d-47598d8a1919",
   "metadata": {},
   "outputs": [],
   "source": []
  }
 ],
 "metadata": {
  "kernelspec": {
   "display_name": "Python 3 (ipykernel)",
   "language": "python",
   "name": "python3"
  },
  "language_info": {
   "codemirror_mode": {
    "name": "ipython",
    "version": 3
   },
   "file_extension": ".py",
   "mimetype": "text/x-python",
   "name": "python",
   "nbconvert_exporter": "python",
   "pygments_lexer": "ipython3",
   "version": "3.10.6"
  }
 },
 "nbformat": 4,
 "nbformat_minor": 5
}

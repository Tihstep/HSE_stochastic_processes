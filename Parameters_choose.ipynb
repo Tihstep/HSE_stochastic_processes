{
 "cells": [
  {
   "cell_type": "markdown",
   "id": "31f1a4d8-b469-4948-897a-6910085d5e12",
   "metadata": {},
   "source": [
    "### Выбор параметров для моделей Кокса-Ингерсола-Росса"
   ]
  },
  {
   "cell_type": "markdown",
   "id": "d3e23fab-4790-41a1-b94a-7054270cbc0f",
   "metadata": {},
   "source": [
    "Модель в форме стохастического дифференциального уравнения имеет вид:  \n",
    "$$dr_t = k(\\theta - r_t) + \\sigma\\sqrt{r_t}dW_t$$,   где $k\\theta >= \\sigma^2$  \n",
    "Математическое ожидание и дисперсия процесса равны:\n",
    "$${\\operatorname {E} [r_{t}\\mid r_{0}]=r_{0}e^{-kt}+\\theta (1-e^{-kt})}$$\n",
    "$${\\operatorname {Var} [r_{t}\\mid r_{0}]=r_{0}{\\frac {\\sigma ^{2}}{k}}(e^{-kt}-e^{-2kt})+{\\frac {\\theta \\sigma ^{2}}{2k}}(1-e^{-kt})^{2}}$$  \n",
    "поэтому долгосрочная средняя величина ставки равна $\\theta$ и долгосрочная дисперсия ставки равна $\\frac{\\theta\\sigma^2}{2k}$"
   ]
  },
  {
   "cell_type": "markdown",
   "id": "7886d961-7433-4cb8-82ee-03bcf5d03a33",
   "metadata": {},
   "source": [
    "*Метод моментов*  \n",
    "Пусть $X$ - исторические наблюдения за последние 5 лет  \n",
    "Тогда в качестве выбора параметров можно применить метод моментов - прировнять выборочные и теоретические параметры, а именно\n",
    "$${E} [r_{t}\\mid r_{0}] = \\theta = {{\\frac {1}{n}}\\sum \\limits _{i=1}^{n}\\ X_{i}}$$\n",
    "$${Var} [r_{t}\\mid r_{0}] = \\frac{\\theta\\sigma^2}{2k} ={\\frac {1}{n}}\\sum \\limits _{i=1}^{n}\\left(X_{i}-{\\bar {X}}\\right)^{2}$$"
   ]
  },
  {
   "cell_type": "code",
   "execution_count": 29,
   "id": "110a8c3c-3949-40e9-af8c-5b16e658c567",
   "metadata": {},
   "outputs": [],
   "source": [
    "import pandas as pd\n",
    "import numpy as np\n",
    "import matplotlib.pyplot as plt"
   ]
  },
  {
   "cell_type": "markdown",
   "id": "05c80314-5fe0-4748-8b78-a0d8ff5d0665",
   "metadata": {},
   "source": [
    "**Расчёт параметров для симуляции процентной ставки Ruonia**"
   ]
  },
  {
   "cell_type": "code",
   "execution_count": 36,
   "id": "c6ac2f05-c51a-429e-9824-ee2141a314c9",
   "metadata": {},
   "outputs": [
    {
     "name": "stderr",
     "output_type": "stream",
     "text": [
      "C:\\Users\\Stepan\\AppData\\Local\\Programs\\Python\\Python310\\lib\\site-packages\\openpyxl\\styles\\stylesheet.py:226: UserWarning: Workbook contains no default style, apply openpyxl's default\n",
      "  warn(\"Workbook contains no default style, apply openpyxl's default\")\n"
     ]
    },
    {
     "data": {
      "text/html": [
       "<div>\n",
       "<style scoped>\n",
       "    .dataframe tbody tr th:only-of-type {\n",
       "        vertical-align: middle;\n",
       "    }\n",
       "\n",
       "    .dataframe tbody tr th {\n",
       "        vertical-align: top;\n",
       "    }\n",
       "\n",
       "    .dataframe thead th {\n",
       "        text-align: right;\n",
       "    }\n",
       "</style>\n",
       "<table border=\"1\" class=\"dataframe\">\n",
       "  <thead>\n",
       "    <tr style=\"text-align: right;\">\n",
       "      <th></th>\n",
       "      <th>DT</th>\n",
       "      <th>ruo</th>\n",
       "      <th>vol</th>\n",
       "      <th>T</th>\n",
       "      <th>C</th>\n",
       "      <th>MinRate</th>\n",
       "      <th>Percentile25</th>\n",
       "      <th>Percentile75</th>\n",
       "      <th>MaxRate</th>\n",
       "      <th>StatusXML</th>\n",
       "      <th>DateUpdate</th>\n",
       "    </tr>\n",
       "  </thead>\n",
       "  <tbody>\n",
       "    <tr>\n",
       "      <th>0</th>\n",
       "      <td>2021-12-09</td>\n",
       "      <td>7.49</td>\n",
       "      <td>192.80</td>\n",
       "      <td>41.0</td>\n",
       "      <td>26.0</td>\n",
       "      <td>7.20</td>\n",
       "      <td>7.4</td>\n",
       "      <td>7.50</td>\n",
       "      <td>7.65</td>\n",
       "      <td>0.0</td>\n",
       "      <td>2021-12-10 14:07:45.403</td>\n",
       "    </tr>\n",
       "    <tr>\n",
       "      <th>1</th>\n",
       "      <td>2021-12-08</td>\n",
       "      <td>7.44</td>\n",
       "      <td>115.50</td>\n",
       "      <td>33.0</td>\n",
       "      <td>24.0</td>\n",
       "      <td>7.30</td>\n",
       "      <td>7.4</td>\n",
       "      <td>7.60</td>\n",
       "      <td>7.75</td>\n",
       "      <td>0.0</td>\n",
       "      <td>2021-12-09 14:10:29.333</td>\n",
       "    </tr>\n",
       "    <tr>\n",
       "      <th>2</th>\n",
       "      <td>2021-12-07</td>\n",
       "      <td>7.24</td>\n",
       "      <td>94.75</td>\n",
       "      <td>32.0</td>\n",
       "      <td>21.0</td>\n",
       "      <td>6.75</td>\n",
       "      <td>7.1</td>\n",
       "      <td>7.41</td>\n",
       "      <td>7.50</td>\n",
       "      <td>0.0</td>\n",
       "      <td>2021-12-08 14:11:34.960</td>\n",
       "    </tr>\n",
       "    <tr>\n",
       "      <th>3</th>\n",
       "      <td>2021-12-06</td>\n",
       "      <td>7.21</td>\n",
       "      <td>136.35</td>\n",
       "      <td>40.0</td>\n",
       "      <td>23.0</td>\n",
       "      <td>6.70</td>\n",
       "      <td>7.0</td>\n",
       "      <td>7.50</td>\n",
       "      <td>7.70</td>\n",
       "      <td>0.0</td>\n",
       "      <td>2021-12-07 14:16:38.310</td>\n",
       "    </tr>\n",
       "    <tr>\n",
       "      <th>4</th>\n",
       "      <td>2021-12-03</td>\n",
       "      <td>7.16</td>\n",
       "      <td>162.75</td>\n",
       "      <td>40.0</td>\n",
       "      <td>25.0</td>\n",
       "      <td>6.70</td>\n",
       "      <td>7.1</td>\n",
       "      <td>7.25</td>\n",
       "      <td>7.50</td>\n",
       "      <td>0.0</td>\n",
       "      <td>2021-12-06 14:17:23.817</td>\n",
       "    </tr>\n",
       "  </tbody>\n",
       "</table>\n",
       "</div>"
      ],
      "text/plain": [
       "          DT   ruo     vol     T     C  MinRate  Percentile25  Percentile75  \\\n",
       "0 2021-12-09  7.49  192.80  41.0  26.0     7.20           7.4          7.50   \n",
       "1 2021-12-08  7.44  115.50  33.0  24.0     7.30           7.4          7.60   \n",
       "2 2021-12-07  7.24   94.75  32.0  21.0     6.75           7.1          7.41   \n",
       "3 2021-12-06  7.21  136.35  40.0  23.0     6.70           7.0          7.50   \n",
       "4 2021-12-03  7.16  162.75  40.0  25.0     6.70           7.1          7.25   \n",
       "\n",
       "   MaxRate  StatusXML              DateUpdate  \n",
       "0     7.65        0.0 2021-12-10 14:07:45.403  \n",
       "1     7.75        0.0 2021-12-09 14:10:29.333  \n",
       "2     7.50        0.0 2021-12-08 14:11:34.960  \n",
       "3     7.70        0.0 2021-12-07 14:16:38.310  \n",
       "4     7.50        0.0 2021-12-06 14:17:23.817  "
      ]
     },
     "execution_count": 36,
     "metadata": {},
     "output_type": "execute_result"
    }
   ],
   "source": [
    "# Возьмем данные по Ruonia за 5 лет с даты прогноза на официальном сайте Банка России\n",
    "Ruonia_rate = pd.read_excel('History_RUONIA.xlsx')\n",
    "Ruonia_rate.head()"
   ]
  },
  {
   "cell_type": "code",
   "execution_count": 37,
   "id": "a78da280-a2c2-4e4f-aa13-c0f6e42ab728",
   "metadata": {},
   "outputs": [],
   "source": [
    "# Тогда выборочные моменты \n",
    "RUB_data_mean = Ruonia_rate['ruo'].mean()\n",
    "RUB_data_var = np.power(Ruonia_rate['ruo'].std(), 2)"
   ]
  },
  {
   "cell_type": "code",
   "execution_count": 38,
   "id": "5a8279c5-5689-4dc9-a3e8-80f3a48714f5",
   "metadata": {},
   "outputs": [],
   "source": [
    "# Пусть волатильность равна 0.1(вот тут надо подумать как это правильнее обосновать)\n",
    "RUB_theta = RUB_data_mean\n",
    "RUB_sigma = 0.1\n",
    "RUB_k = RUB_theta*RUB_sigma*RUB_sigma/(2*RUB_data_var)"
   ]
  },
  {
   "cell_type": "code",
   "execution_count": 39,
   "id": "13f61789-e660-4b64-a6fc-03de0c48bb37",
   "metadata": {},
   "outputs": [
    {
     "name": "stdout",
     "output_type": "stream",
     "text": [
      "Средний уровень: 6.777795918367346\n",
      "Волатильность: 0.1\n",
      "Скорость возврата к среднему: 0.01231185014718937\n"
     ]
    }
   ],
   "source": [
    "print(f'Средний уровень: {RUB_theta}\\nВолатильность: {RUB_sigma}\\nСкорость возврата к среднему: {RUB_k}')"
   ]
  },
  {
   "cell_type": "markdown",
   "id": "dcfbc5ff-fa9c-4f70-a715-c5ca86bd7ff3",
   "metadata": {},
   "source": [
    "**Расчёт параметров для симуляции процентной ставки LIBOR**"
   ]
  },
  {
   "cell_type": "code",
   "execution_count": 42,
   "id": "899ec457-19f4-48dd-8e2c-45fc675c52a0",
   "metadata": {},
   "outputs": [],
   "source": [
    "LIBOR_rate = pd.read_csv('US Dollar Overnight Domestic Interest Rate Historical Data.csv')\n",
    "LIBOR_rate['Date'] = pd.to_datetime(LIBOR_rate['Date'])"
   ]
  },
  {
   "cell_type": "code",
   "execution_count": 43,
   "id": "5bad17fc-21fc-43f5-abff-433ec1f950c3",
   "metadata": {},
   "outputs": [],
   "source": [
    "# Выборочные моменты \n",
    "USD_data_mean = LIBOR_rate['Price'].mean()\n",
    "USD_data_var = np.power(LIBOR_rate['Price'].std(), 2)"
   ]
  },
  {
   "cell_type": "code",
   "execution_count": 44,
   "id": "ced9d917-973c-4df1-a7e7-246046b7f4fe",
   "metadata": {},
   "outputs": [],
   "source": [
    "# Пусть волатильность равна 0.1(вот тут надо подумать как это правильнее обосновать)\n",
    "USD_theta = USD_data_mean\n",
    "USD_sigma = 0.1\n",
    "USD_k = USD_theta*USD_sigma*USD_sigma/(2*USD_data_var)"
   ]
  },
  {
   "cell_type": "code",
   "execution_count": 45,
   "id": "55b2290c-d745-4924-ae12-358b3dfeac45",
   "metadata": {},
   "outputs": [
    {
     "name": "stdout",
     "output_type": "stream",
     "text": [
      "Средний уровень: 1.5354035759897828\n",
      "Волатильность: 0.1\n",
      "Скорость возврата к среднему: 0.0162549772058823\n"
     ]
    }
   ],
   "source": [
    "print(f'Средний уровень: {USD_theta}\\nВолатильность: {USD_sigma}\\nСкорость возврата к среднему: {USD_k}')"
   ]
  },
  {
   "cell_type": "code",
   "execution_count": null,
   "id": "be2089fe-9d6b-4f2f-b013-7b2b504ca92e",
   "metadata": {},
   "outputs": [],
   "source": []
  },
  {
   "cell_type": "code",
   "execution_count": null,
   "id": "e75909ba-7466-4c0e-83a0-372263abaa9e",
   "metadata": {},
   "outputs": [],
   "source": []
  }
 ],
 "metadata": {
  "kernelspec": {
   "display_name": "Python 3 (ipykernel)",
   "language": "python",
   "name": "python3"
  },
  "language_info": {
   "codemirror_mode": {
    "name": "ipython",
    "version": 3
   },
   "file_extension": ".py",
   "mimetype": "text/x-python",
   "name": "python",
   "nbconvert_exporter": "python",
   "pygments_lexer": "ipython3",
   "version": "3.10.6"
  }
 },
 "nbformat": 4,
 "nbformat_minor": 5
}
